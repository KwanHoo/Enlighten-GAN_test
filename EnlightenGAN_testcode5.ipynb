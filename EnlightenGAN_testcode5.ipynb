{
 "cells": [
  {
   "cell_type": "markdown",
   "id": "8c4c6263",
   "metadata": {},
   "source": [
    "# EnlightenGAN 테스트 \n",
    "\n",
    "#### 저조도 img10, img11 조도 개선 테스트 코드\n",
    "#### 노이즈가 있는 원본이미지를 개선시키면 노이즈로 인해 판별 어려움"
   ]
  },
  {
   "cell_type": "code",
   "execution_count": 2,
   "id": "18d20ede",
   "metadata": {},
   "outputs": [],
   "source": [
    "from enlighten_inference import EnlightenOnnxModel\n",
    "import cv2\n",
    "\n",
    "img10 = cv2.imread('t_img10.jpg')\n",
    "\n",
    "model = EnlightenOnnxModel()\n",
    "\n",
    "processed10 = model.predict(img10)"
   ]
  },
  {
   "cell_type": "code",
   "execution_count": 3,
   "id": "6938daed",
   "metadata": {},
   "outputs": [],
   "source": [
    "cv2.imshow('test10', img10)\n",
    "cv2.imshow('dst10', processed10)\n",
    "cv2.waitKey()\n",
    "cv2.destroyAllWindows()"
   ]
  },
  {
   "cell_type": "code",
   "execution_count": 4,
   "id": "f4e982ad",
   "metadata": {},
   "outputs": [],
   "source": [
    "img11 = cv2.imread('t_img11.jpg')\n",
    "\n",
    "processed11 = model.predict(img11)"
   ]
  },
  {
   "cell_type": "code",
   "execution_count": 5,
   "id": "6e03dc4d",
   "metadata": {},
   "outputs": [],
   "source": [
    "cv2.imshow('test11', img11)\n",
    "cv2.imshow('dst11', processed11)\n",
    "cv2.waitKey()\n",
    "cv2.destroyAllWindows()"
   ]
  },
  {
   "cell_type": "code",
   "execution_count": null,
   "id": "36b7218f",
   "metadata": {},
   "outputs": [],
   "source": []
  }
 ],
 "metadata": {
  "kernelspec": {
   "display_name": "Python 3",
   "language": "python",
   "name": "python3"
  },
  "language_info": {
   "codemirror_mode": {
    "name": "ipython",
    "version": 3
   },
   "file_extension": ".py",
   "mimetype": "text/x-python",
   "name": "python",
   "nbconvert_exporter": "python",
   "pygments_lexer": "ipython3",
   "version": "3.6.13"
  }
 },
 "nbformat": 4,
 "nbformat_minor": 5
}
