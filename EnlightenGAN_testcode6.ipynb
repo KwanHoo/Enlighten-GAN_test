{
 "cells": [
  {
   "cell_type": "markdown",
   "id": "aa769504",
   "metadata": {},
   "source": [
    "# EnlightenGAN 테스트 \n",
    "\n",
    "#### 저조도 img12, img13 조도 개선 테스트 코드\n",
    "#### 원본이미지가 빛이 거의 없는 상태인 장소에서 촬영하는 경우 결과가 잘 안나옴"
   ]
  },
  {
   "cell_type": "code",
   "execution_count": 1,
   "id": "6600fd5d",
   "metadata": {},
   "outputs": [],
   "source": [
    "from enlighten_inference import EnlightenOnnxModel\n",
    "import cv2\n",
    "\n",
    "img12 = cv2.imread('t_img12.jpg')\n",
    "\n",
    "model = EnlightenOnnxModel()\n",
    "\n",
    "processed12 = model.predict(img12)"
   ]
  },
  {
   "cell_type": "code",
   "execution_count": null,
   "id": "fa3775e4",
   "metadata": {},
   "outputs": [],
   "source": [
    "cv2.imshow('test1', img12)\n",
    "cv2.imshow('dst12', processed12)\n",
    "cv2.waitKey()\n",
    "cv2.destroyAllWindows()"
   ]
  },
  {
   "cell_type": "code",
   "execution_count": 3,
   "id": "fe3d903f",
   "metadata": {},
   "outputs": [],
   "source": [
    "img13 = cv2.imread('t_img13.jpg')\n",
    "processed13 = model.predict(img13)"
   ]
  },
  {
   "cell_type": "code",
   "execution_count": null,
   "id": "41fc244d",
   "metadata": {},
   "outputs": [],
   "source": [
    "cv2.imshow('test13', img13)\n",
    "cv2.imshow('dst13', processed13)\n",
    "cv2.waitKey()\n",
    "cv2.destroyAllWindows()"
   ]
  }
 ],
 "metadata": {
  "kernelspec": {
   "display_name": "Python 3",
   "language": "python",
   "name": "python3"
  },
  "language_info": {
   "codemirror_mode": {
    "name": "ipython",
    "version": 3
   },
   "file_extension": ".py",
   "mimetype": "text/x-python",
   "name": "python",
   "nbconvert_exporter": "python",
   "pygments_lexer": "ipython3",
   "version": "3.6.13"
  }
 },
 "nbformat": 4,
 "nbformat_minor": 5
}
