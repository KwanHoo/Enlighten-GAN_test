{
 "cells": [
  {
   "cell_type": "markdown",
   "id": "77dd0ae9",
   "metadata": {},
   "source": [
    "# EnlightenGAN 테스트 \n",
    "\n",
    "#### 저조도 img5, img6, img7 조도 개선 테스트 코드\n",
    "#### 모델 사용시 조도는 개선이 되나 노이즈 어느 정도 있음"
   ]
  },
  {
   "cell_type": "code",
   "execution_count": 2,
   "id": "02ed5945",
   "metadata": {},
   "outputs": [],
   "source": [
    "from enlighten_inference import EnlightenOnnxModel\n",
    "import cv2\n",
    "\n",
    "img5 = cv2.imread('t_img5.jpg')\n",
    "\n",
    "model = EnlightenOnnxModel()\n",
    "\n",
    "processed5 = model.predict(img5)"
   ]
  },
  {
   "cell_type": "code",
   "execution_count": 3,
   "id": "740edf48",
   "metadata": {},
   "outputs": [],
   "source": [
    "cv2.imshow('test5', img5)\n",
    "cv2.imshow('dst5', processed5)\n",
    "cv2.waitKey()\n",
    "cv2.destroyAllWindows()"
   ]
  },
  {
   "cell_type": "code",
   "execution_count": 4,
   "id": "218c3a0c",
   "metadata": {},
   "outputs": [],
   "source": [
    "img6 = cv2.imread('t_img6.jpg')\n",
    "\n",
    "processed6 = model.predict(img6)"
   ]
  },
  {
   "cell_type": "code",
   "execution_count": 5,
   "id": "4d3c3a5a",
   "metadata": {},
   "outputs": [],
   "source": [
    "cv2.imshow('test6', img6)\n",
    "cv2.imshow('dst6', processed6)\n",
    "cv2.waitKey()\n",
    "cv2.destroyAllWindows()"
   ]
  },
  {
   "cell_type": "code",
   "execution_count": 6,
   "id": "bd8304a6",
   "metadata": {},
   "outputs": [],
   "source": [
    "img7 = cv2.imread('t_img7.jpg')\n",
    "\n",
    "processed7 = model.predict(img7)"
   ]
  },
  {
   "cell_type": "code",
   "execution_count": 8,
   "id": "c194e45b",
   "metadata": {},
   "outputs": [],
   "source": [
    "cv2.imshow('test7', img7)\n",
    "cv2.imshow('dst7', processed7)\n",
    "cv2.waitKey()\n",
    "cv2.destroyAllWindows()"
   ]
  },
  {
   "cell_type": "code",
   "execution_count": null,
   "id": "219e8c01",
   "metadata": {},
   "outputs": [],
   "source": []
  }
 ],
 "metadata": {
  "kernelspec": {
   "display_name": "Python 3",
   "language": "python",
   "name": "python3"
  },
  "language_info": {
   "codemirror_mode": {
    "name": "ipython",
    "version": 3
   },
   "file_extension": ".py",
   "mimetype": "text/x-python",
   "name": "python",
   "nbconvert_exporter": "python",
   "pygments_lexer": "ipython3",
   "version": "3.6.13"
  }
 },
 "nbformat": 4,
 "nbformat_minor": 5
}
