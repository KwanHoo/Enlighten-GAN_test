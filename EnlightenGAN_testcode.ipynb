{
 "cells": [
  {
   "cell_type": "markdown",
   "id": "899fd8d3",
   "metadata": {},
   "source": [
    "# EnlightenGAN 테스트 \n",
    "\n",
    "#### 저조도 img1, img2 조도 개선 테스트 코드\n",
    "#### 모델 사용시 조도는 개선이 되나 노이즈 어느 정도 있음"
   ]
  },
  {
   "cell_type": "code",
   "execution_count": 1,
   "id": "01a2f8c4",
   "metadata": {},
   "outputs": [],
   "source": [
    "from enlighten_inference import EnlightenOnnxModel\n",
    "import cv2\n",
    "\n",
    "img1 = cv2.imread('t_img1.jpg')\n",
    "\n",
    "model = EnlightenOnnxModel()\n",
    "\n",
    "processed1 = model.predict(img1)"
   ]
  },
  {
   "cell_type": "code",
   "execution_count": 3,
   "id": "9d3a129b",
   "metadata": {},
   "outputs": [],
   "source": [
    "cv2.imshow('test1', img1)\n",
    "cv2.imshow('dst1', processed1)\n",
    "cv2.waitKey()\n",
    "cv2.destroyAllWindows()"
   ]
  },
  {
   "cell_type": "code",
   "execution_count": 4,
   "id": "8133fbb3",
   "metadata": {},
   "outputs": [],
   "source": [
    "img2 = cv2.imread('t_img2.jpg')\n",
    "\n",
    "model = EnlightenOnnxModel()\n",
    "\n",
    "processed2 = model.predict(img2)"
   ]
  },
  {
   "cell_type": "code",
   "execution_count": 5,
   "id": "6eeb8e62",
   "metadata": {},
   "outputs": [],
   "source": [
    "cv2.imshow('test2', img2)\n",
    "cv2.imshow('dst2', processed2)\n",
    "cv2.waitKey()\n",
    "cv2.destroyAllWindows()"
   ]
  },
  {
   "cell_type": "code",
   "execution_count": null,
   "id": "66d69fb5",
   "metadata": {},
   "outputs": [],
   "source": []
  }
 ],
 "metadata": {
  "kernelspec": {
   "display_name": "Python 3",
   "language": "python",
   "name": "python3"
  },
  "language_info": {
   "codemirror_mode": {
    "name": "ipython",
    "version": 3
   },
   "file_extension": ".py",
   "mimetype": "text/x-python",
   "name": "python",
   "nbconvert_exporter": "python",
   "pygments_lexer": "ipython3",
   "version": "3.6.13"
  }
 },
 "nbformat": 4,
 "nbformat_minor": 5
}
