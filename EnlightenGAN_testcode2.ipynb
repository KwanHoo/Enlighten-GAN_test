{
 "cells": [
  {
   "cell_type": "markdown",
   "id": "cb68d867",
   "metadata": {},
   "source": [
    "# EnlightenGAN 테스트 \n",
    "\n",
    "#### 저조도 img3, img4 조도 개선 테스트 코드\n",
    "#### 모델 사용시 조도는 개선이 되나 노이즈 어느 정도 있음"
   ]
  },
  {
   "cell_type": "code",
   "execution_count": 2,
   "id": "be6ea87e",
   "metadata": {},
   "outputs": [],
   "source": [
    "from enlighten_inference import EnlightenOnnxModel\n",
    "import cv2\n",
    "\n",
    "img3 = cv2.imread('t_img3.jpg')\n",
    "\n",
    "model = EnlightenOnnxModel()\n",
    "\n",
    "processed3 = model.predict(img3)"
   ]
  },
  {
   "cell_type": "code",
   "execution_count": 3,
   "id": "732edd54",
   "metadata": {},
   "outputs": [],
   "source": [
    "cv2.imshow('test3', img3)\n",
    "cv2.imshow('dst3', processed3)\n",
    "cv2.waitKey()\n",
    "cv2.destroyAllWindows()"
   ]
  },
  {
   "cell_type": "code",
   "execution_count": 4,
   "id": "bc60d9a1",
   "metadata": {},
   "outputs": [],
   "source": [
    "img4 = cv2.imread('t_img4.jpg')\n",
    "\n",
    "processed4 = model.predict(img4)"
   ]
  },
  {
   "cell_type": "code",
   "execution_count": 5,
   "id": "e772f2f1",
   "metadata": {},
   "outputs": [],
   "source": [
    "cv2.imshow('test4', img4)\n",
    "cv2.imshow('dst4', processed4)\n",
    "cv2.waitKey()\n",
    "cv2.destroyAllWindows()"
   ]
  },
  {
   "cell_type": "code",
   "execution_count": null,
   "id": "a5bb930a",
   "metadata": {},
   "outputs": [],
   "source": []
  }
 ],
 "metadata": {
  "kernelspec": {
   "display_name": "Python 3",
   "language": "python",
   "name": "python3"
  },
  "language_info": {
   "codemirror_mode": {
    "name": "ipython",
    "version": 3
   },
   "file_extension": ".py",
   "mimetype": "text/x-python",
   "name": "python",
   "nbconvert_exporter": "python",
   "pygments_lexer": "ipython3",
   "version": "3.6.13"
  }
 },
 "nbformat": 4,
 "nbformat_minor": 5
}
