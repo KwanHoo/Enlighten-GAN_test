{
 "cells": [
  {
   "cell_type": "markdown",
   "id": "34b667a9",
   "metadata": {},
   "source": [
    "# EnlightenGAN 테스트 \n",
    "\n",
    "#### 저조도 img8, img9 조도 개선 테스트 코드\n",
    "#### 노이즈가 있는 원본이미지를 개선시키면 노이즈로 인해 판별 어려움"
   ]
  },
  {
   "cell_type": "code",
   "execution_count": 1,
   "id": "acdfdbfa",
   "metadata": {},
   "outputs": [],
   "source": [
    "from enlighten_inference import EnlightenOnnxModel\n",
    "import cv2\n",
    "\n",
    "img8 = cv2.imread('t_img8.jpg')\n",
    "\n",
    "model = EnlightenOnnxModel()\n",
    "\n",
    "processed8 = model.predict(img8)"
   ]
  },
  {
   "cell_type": "code",
   "execution_count": 3,
   "id": "f6a1a322",
   "metadata": {},
   "outputs": [],
   "source": [
    "cv2.imshow('test8', img8)\n",
    "cv2.imshow('dst8', processed8)\n",
    "cv2.waitKey()\n",
    "cv2.destroyAllWindows()"
   ]
  },
  {
   "cell_type": "code",
   "execution_count": 4,
   "id": "167bba50",
   "metadata": {},
   "outputs": [],
   "source": [
    "img9 = cv2.imread('t_img9.jpg')\n",
    "\n",
    "processed9 = model.predict(img9)"
   ]
  },
  {
   "cell_type": "code",
   "execution_count": 6,
   "id": "5d3227e0",
   "metadata": {},
   "outputs": [],
   "source": [
    "cv2.imshow('test9', img9)\n",
    "cv2.imshow('dst9', processed9)\n",
    "cv2.waitKey()\n",
    "cv2.destroyAllWindows()"
   ]
  },
  {
   "cell_type": "code",
   "execution_count": null,
   "id": "e8984a5b",
   "metadata": {},
   "outputs": [],
   "source": []
  }
 ],
 "metadata": {
  "kernelspec": {
   "display_name": "Python 3",
   "language": "python",
   "name": "python3"
  },
  "language_info": {
   "codemirror_mode": {
    "name": "ipython",
    "version": 3
   },
   "file_extension": ".py",
   "mimetype": "text/x-python",
   "name": "python",
   "nbconvert_exporter": "python",
   "pygments_lexer": "ipython3",
   "version": "3.6.13"
  }
 },
 "nbformat": 4,
 "nbformat_minor": 5
}
