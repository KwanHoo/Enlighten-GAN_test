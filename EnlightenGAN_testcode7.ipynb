{
 "cells": [
  {
   "cell_type": "markdown",
   "id": "8f955053",
   "metadata": {},
   "source": [
    "# EnlightenGAN 테스트 \n",
    "\n",
    "#### 저조도 img14, img15 조도 개선 테스트 코드\n",
    "#### 원본이미지가 빛이 거의 없는 상태인 장소에서 촬영하는 경우 결과가 잘 안나옴"
   ]
  },
  {
   "cell_type": "code",
   "execution_count": 1,
   "id": "9e62b439",
   "metadata": {},
   "outputs": [],
   "source": [
    "from enlighten_inference import EnlightenOnnxModel\n",
    "import cv2\n",
    "\n",
    "img14 = cv2.imread('t_img14.jpg')\n",
    "\n",
    "model = EnlightenOnnxModel()\n",
    "\n",
    "processed14 = model.predict(img14)"
   ]
  },
  {
   "cell_type": "code",
   "execution_count": 2,
   "id": "f714a74a",
   "metadata": {},
   "outputs": [],
   "source": [
    "cv2.imshow('test1', img14)\n",
    "cv2.imshow('dst14', processed14)\n",
    "cv2.waitKey()\n",
    "cv2.destroyAllWindows()"
   ]
  },
  {
   "cell_type": "code",
   "execution_count": 3,
   "id": "96ede59f",
   "metadata": {},
   "outputs": [],
   "source": [
    "img15 = cv2.imread('t_img15.jpg')\n",
    "processed15 = model.predict(img15)"
   ]
  },
  {
   "cell_type": "code",
   "execution_count": 4,
   "id": "2846893b",
   "metadata": {},
   "outputs": [],
   "source": [
    "cv2.imshow('test1', img15)\n",
    "cv2.imshow('dst15', processed15)\n",
    "cv2.waitKey()\n",
    "cv2.destroyAllWindows()"
   ]
  },
  {
   "cell_type": "code",
   "execution_count": null,
   "id": "5e0c5abb",
   "metadata": {},
   "outputs": [],
   "source": []
  }
 ],
 "metadata": {
  "kernelspec": {
   "display_name": "Python 3",
   "language": "python",
   "name": "python3"
  },
  "language_info": {
   "codemirror_mode": {
    "name": "ipython",
    "version": 3
   },
   "file_extension": ".py",
   "mimetype": "text/x-python",
   "name": "python",
   "nbconvert_exporter": "python",
   "pygments_lexer": "ipython3",
   "version": "3.6.13"
  }
 },
 "nbformat": 4,
 "nbformat_minor": 5
}
